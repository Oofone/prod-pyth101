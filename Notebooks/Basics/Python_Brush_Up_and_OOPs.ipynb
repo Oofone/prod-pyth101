{
  "nbformat": 4,
  "nbformat_minor": 0,
  "metadata": {
    "colab": {
      "name": "Python Brush Up and OOPs",
      "provenance": [],
      "toc_visible": true
    },
    "kernelspec": {
      "name": "python3",
      "display_name": "Python 3"
    }
  },
  "cells": [
    {
      "cell_type": "markdown",
      "metadata": {
        "id": "iBtErH_qzmYX",
        "colab_type": "text"
      },
      "source": [
        "# Writing Good Code in Python\n",
        "\n",
        "Python is a highly versatile and simple to learn language. It's good for writing small scripts, running Django or Flask based servers in production, and even for server-less AWS Lambda functions for data transformation and APIs.   \n",
        "\n",
        "## Problem\n",
        "\n",
        "The only problem is, **python can sometimes be too versatile** and confusing, *much like the ramblings of a very intelligent person*.\n",
        "\n",
        "If written half-assedly or without some thought and consideration, it can be quite hard for anyone else to understand or work with your code.\n",
        "\n",
        "## Solution\n",
        "We'll work with a Toy iPython notebook, and use it to understand how to follow some simple guidelines to write neat and easily readable Python code **WHILE ALSO COVERING** some simple OOPs principles and practices to get the best of both Python and Object Oriented Programming.\n",
        "\n",
        "---\n",
        "\n"
      ]
    },
    {
      "cell_type": "markdown",
      "metadata": {
        "id": "-N6C8Qste1Ew",
        "colab_type": "text"
      },
      "source": [
        "### What is all of this about?\n",
        "\n",
        "So what is the point here? \n",
        "\n",
        "This notebook serves as a brush-up to just quickly go through a very small python module and understand how to structure your code and make it readable and easy to understand and collaborate with. \n",
        "\n",
        "We'll breakdown the following things after this individually:\n",
        "\n",
        "* Logging\n",
        "* Data Validation\n",
        "* Metaclasses and Abstract Classes\n",
        "* Enforcing Stricter Typing (when necessary)\n",
        "* Unit-tests\n",
        "\n",
        "After that, we'll **integrate a Toy Application** with Flask to make a simple Server. \n",
        "\n",
        "Finally we'll cover the last two topics: \n",
        "\n",
        "1. Dependency Injection (Multiple Encryption implementations)\n",
        "2. Creating a pipeline with CircleCI for CI/CD to get your code from your laptop to a production host where it can be accessed by people around the world. "
      ]
    },
    {
      "cell_type": "markdown",
      "metadata": {
        "id": "j15CkWlQ2m5Q",
        "colab_type": "text"
      },
      "source": [
        "## Cryptography Practice Notebook\n",
        "\n",
        "Just a simple notebook to practice some crypto functions you'd learn in any basic CS Program or Course."
      ]
    },
    {
      "cell_type": "markdown",
      "metadata": {
        "id": "sz5lVlv63ij5",
        "colab_type": "text"
      },
      "source": [
        "### Dependency Installation\n",
        "\n",
        "As always with python, any non-included library module can simply be installed with pip. \n",
        "\n",
        "Generally you'd have a dependencies file such as ```requirements``` in your directory and you can simply run ```pip install -r requirements``` to install all your dependencies.\n",
        "\n",
        "A sample of your ```requirements``` file:\n",
        "\n",
        "```\n",
        "beautifulsoup4==4.6.3\n",
        "certifi==2018.8.24\n",
        "```\n",
        "\n",
        "**Since this is an iPython notebook**, we'll simply use a code frame to install and import our global dependencies.\n",
        "\n",
        "**Note:** Based on your building/deployment framework or pipeline this dependency management system could be similar or very different. "
      ]
    },
    {
      "cell_type": "code",
      "metadata": {
        "id": "3YL_3cpf3I1I",
        "colab_type": "code",
        "outputId": "9651dda4-43ca-4552-905e-913d60d52a4e",
        "colab": {
          "base_uri": "https://localhost:8080/",
          "height": 185
        }
      },
      "source": [
        "!pip install request\n",
        "!pip install bs4\n",
        "!pip install validation\n",
        "\n",
        "import logging\n",
        "import unittest\n",
        "\n",
        "logging.basicConfig(filename=\"application.log\",\n",
        "                    filemode='a',\n",
        "                    format='%(asctime)s,%(msecs)d %(name)s %(levelname)s %(message)s',\n",
        "                    datefmt='%H:%M:%S',\n",
        "                    level=logging.DEBUG)\n",
        "logging.info(\"Imported dependencies and initialized logger\")"
      ],
      "execution_count": 6,
      "outputs": [
        {
          "output_type": "stream",
          "text": [
            "Requirement already satisfied: request in /usr/local/lib/python3.6/dist-packages (2019.4.13)\n",
            "Requirement already satisfied: get in /usr/local/lib/python3.6/dist-packages (from request) (2019.4.13)\n",
            "Requirement already satisfied: post in /usr/local/lib/python3.6/dist-packages (from request) (2019.4.13)\n",
            "Requirement already satisfied: setuptools in /usr/local/lib/python3.6/dist-packages (from request) (47.1.1)\n",
            "Requirement already satisfied: query-string in /usr/local/lib/python3.6/dist-packages (from get->request) (2019.4.13)\n",
            "Requirement already satisfied: public in /usr/local/lib/python3.6/dist-packages (from query-string->get->request) (2019.4.13)\n",
            "Requirement already satisfied: bs4 in /usr/local/lib/python3.6/dist-packages (0.0.1)\n",
            "Requirement already satisfied: beautifulsoup4 in /usr/local/lib/python3.6/dist-packages (from bs4) (4.6.3)\n",
            "Requirement already satisfied: validation in /usr/local/lib/python3.6/dist-packages (0.5.0)\n",
            "Requirement already satisfied: six<2,>=1.10 in /usr/local/lib/python3.6/dist-packages (from validation) (1.12.0)\n"
          ],
          "name": "stdout"
        }
      ]
    },
    {
      "cell_type": "markdown",
      "metadata": {
        "id": "y20gHUgG3o-W",
        "colab_type": "text"
      },
      "source": [
        "### Simple Ceasar Cipher\n",
        "\n",
        "A Ceasar Cipher is a simple substitution cipher. \n",
        "A plain-text String and key are provided. Each character is substituted with a character displaced by the number key.\n",
        "\n",
        "| Plain-text | Key | Encoded Value |\n",
        "|------------|-----|---------------|\n",
        "|A           |1    | B             |\n",
        "|B           |3    | E             |\n",
        "|C           |25   | B             |"
      ]
    },
    {
      "cell_type": "markdown",
      "metadata": {
        "id": "6KqmqkHn2rCh",
        "colab_type": "text"
      },
      "source": [
        "#### Utilities and Modularity\n",
        "\n",
        "It's important to structure and modularize your code.\n",
        "\n",
        "Let's start with a utility function.\n",
        "We'll have a function that performs the main substitution as a displacement (with the key providing length of displacement) and a roll-over accross the first and last alphabets, meaning: \n",
        "* 'a' -> 'z'\n",
        "* 'z' -> 'a'\n",
        "\n",
        "\n",
        "#### Logic \n",
        "\n",
        "We're essentially going to take the ASCII value of a character, and displace it by the distance. Then, convert the new ASCII value into the resultant character. \n",
        "\n",
        "a -> 96 \n",
        "b -> 97\n",
        "\n",
        "if distance is 57 \n",
        "\n",
        "* b is converted to 97\n",
        "* We subtract 96 to bring the value between 0-25; result = 1\n",
        "* then we add (57 MOD 26) = 5; result = 6\n",
        "* then (6 + 96) is converted back into a character from ASCII.\n",
        "\n",
        "Additionally based on whether the input was upper or lower case we return a corresponding value.\n",
        "\n",
        "---\n",
        "\n",
        "We'll define a ```Util``` Class which can house all of our utility code.\n",
        "\n",
        "We'll write a ```static``` function implemented with the ```@staticmethod``` annotation since this function is not an _instance method_ and is a method which is bound to the class and not the object of the class\n",
        "\n",
        "A **simple paradigm** to write any logical function is as follows:\n",
        "\n",
        "1. Any logging of input data if necessary (like a requestId).\n",
        "1. Input data validation as necessary (checking data-types, constraints)\n",
        "1. Core module logic; the actual logic of the function.\n",
        "1. Output data validation as necessary\n",
        "1. Return output."
      ]
    },
    {
      "cell_type": "code",
      "metadata": {
        "id": "2kgeUGvmfRap",
        "colab_type": "code",
        "colab": {}
      },
      "source": [
        "from validation import validate_text, validate_int\n",
        "\n",
        "# Local oonstants \n",
        "\n",
        "ASCII_A = ord('a')\n",
        "NUM_ALPHABET = 26\n",
        "\n",
        "class Util():\n",
        "  \"\"\"Utility class containing some utility functions.\n",
        "  \n",
        "  function displace_with_rollover: static\n",
        "  \"\"\"\n",
        "\n",
        "  @staticmethod\n",
        "  def displace_character_with_rollover(input_character, distance):\n",
        "    \"\"\"displace_with_rollover Documentation:\n",
        "\n",
        "    Takes a character and displaces it by given number modulo 26.\n",
        "    Rolls-over from \"z\" to the \"a\", or \"a\" to \"z\".\n",
        "    Returns the case-corrected Character.\n",
        "    \n",
        "    :param input_character: A character to apply key-displacement to.\n",
        "    :type input_character: str\n",
        "\n",
        "    :param distance: Distance to shift the given input_character by.\n",
        "    :type distance: int\n",
        "\n",
        "    :returns: Output character after transformation\n",
        "    :rtype: str\n",
        "    \"\"\"\n",
        "\n",
        "    logging.info(\"Displacing %s with key %s\", input_character, distance)\n",
        "    validate_text(input_character, min_length=1, max_length=1, pattern='[a-zA-Z]', required=True)\n",
        "    validate_int(distance, required=True)\n",
        "\n",
        "    output = chr(ascii_of_a + ((ord(input_character.lower()) - ascii_of_a + distance) % NUM_ALPHABET))\n",
        "\n",
        "    return output.lower() if input_character.islower() else output.upper()"
      ],
      "execution_count": 0,
      "outputs": []
    },
    {
      "cell_type": "markdown",
      "metadata": {
        "id": "a9pcVpqXgQdL",
        "colab_type": "text"
      },
      "source": [
        "####  Unit-Tests 101\n",
        "\n",
        "A good coding standard is to write some unit-test for a piece of completed code to ensure that further changes to the code don't break existing logic and expectations.\n",
        "\n",
        "**In fact** it's best to **_start with the unit-tests first_**, to understand the requirements of your code and build the logic as you execute your tests to ensure you're going in the right direction. \n",
        "\n",
        "#### What is a Unit-Test?\n",
        "\n",
        "In the simplest terms: A unit-test is a piece of code (Software Testing method) that is used to test the logic of individual units of source code. \n",
        "\n",
        "Now let's write a few unit-tests to ensure that the code for the above ```Util``` Class doesn't break!"
      ]
    },
    {
      "cell_type": "code",
      "metadata": {
        "id": "S3n_EvzojGzN",
        "colab_type": "code",
        "colab": {
          "base_uri": "https://localhost:8080/",
          "height": 118
        },
        "outputId": "21865758-613f-4eae-aae7-18b685aba844"
      },
      "source": [
        "class UtilTest(unittest.TestCase):\n",
        "  \n",
        "  def test_displace_with_rollover_happy_case_positive_key(self):\n",
        "    self.assertEqual(Util.displace_character_with_rollover('a', 2), 'c')\n",
        "  \n",
        "  def test_displace_with_rollover_happy_case_negative_key(self):\n",
        "    self.assertEqual(Util.displace_character_with_rollover('a', -1), 'z')\n",
        "\n",
        "  def test_displace_with_rollover_validation_character_input_excess_length(self):\n",
        "    self.assertRaises(ValueError, Util.displace_character_with_rollover, \"abcd\", 1)\n",
        "\n",
        "unittest.main(argv=['first-arg-is-ignored'], exit=False)"
      ],
      "execution_count": 27,
      "outputs": [
        {
          "output_type": "stream",
          "text": [
            "...\n",
            "----------------------------------------------------------------------\n",
            "Ran 3 tests in 0.005s\n",
            "\n",
            "OK\n"
          ],
          "name": "stderr"
        },
        {
          "output_type": "execute_result",
          "data": {
            "text/plain": [
              "<unittest.main.TestProgram at 0x7f8fda475550>"
            ]
          },
          "metadata": {
            "tags": []
          },
          "execution_count": 27
        }
      ]
    },
    {
      "cell_type": "markdown",
      "metadata": {
        "id": "xdBD98ZXm27o",
        "colab_type": "text"
      },
      "source": [
        "#### Implementation\n",
        "\n",
        "Here we'll implement the actual code to encrypt and decrypt the Ceasar Cypher using our displacement utility function.\n",
        "\n",
        "We'll be working with three main instance variables:\n",
        "\n",
        "* target: A variable that stores the string to transform\n",
        "* key: A variable that stores the Key to use to transform the target\n",
        "* ouput: A variable to store the immediate output of processing\n",
        "\n",
        "They are implemented here as instances of ```property```. Go [here](https://docs.python.org/3/howto/descriptor.html#properties) to read more about properties and how Decorators work.\n",
        "\n",
        "Essentially we're using these as private variables. Any variable ```name``` preceded by two underscores like ```__name``` will be regarded by Python as a private variable. Also the function ```__init__(self, ...args...)``` acts as the constructor for the Class. "
      ]
    },
    {
      "cell_type": "code",
      "metadata": {
        "id": "z1XrrqFso3J1",
        "colab_type": "code",
        "colab": {}
      },
      "source": [
        "from validation import validate_text, validate_int\n",
        "\n",
        "class CeasarCipher():\n",
        "  \"\"\"Ceasar Cipher Implementation Class\n",
        "\n",
        "  A class used to implement a simple Ceasar Cipher.\n",
        "\n",
        "  :param target: The target variable stores the String on which encryption and decryption operations are performed on.\n",
        "  Additionally this string must contain at-least one alphabetic characters and no non-alphabetical characters.\n",
        "  :type target: str\n",
        "  \n",
        "  :param key: The key contains an integer key that is used to perform the substitution.\n",
        "  :type key: int\n",
        "\n",
        "  :param output: The output variable stores the output of the operation. \n",
        "  :type output: str\n",
        "  \"\"\"\n",
        "\n",
        "  @property\n",
        "  def target(self):\n",
        "    return self.__target\n",
        "\n",
        "  @target.setter\n",
        "  def target(self, target):\n",
        "    try:\n",
        "      validate_text(target, min_length=1, required=True, pattern='[a-zA-Z]+')\n",
        "    except ValueError as v:\n",
        "      logging.error(\"Failure setting target %s\", target)\n",
        "      raise ValueError(\"The target String must consist of at least one alphabet and non-alphabetical characters are allowed\")\n",
        "\n",
        "    self.__target = target\n",
        "\n",
        "  @property\n",
        "  def key(self):\n",
        "    return self.__key\n",
        "\n",
        "  @key.setter\n",
        "  def key(self, key):\n",
        "    validate_int(key, required=True)\n",
        "    self.__key = key\n",
        "\n",
        "  @property\n",
        "  def output(self):\n",
        "    return self.__output\n",
        "\n",
        "  def __init__(self, target=None, key=None):\n",
        "    if target is not None: self.target = target \n",
        "    if key is not None: self.key = key\n",
        "\n",
        "  def encrypt(self):\n",
        "    \"\"\" encrypt: Function to perform encryption on target variable\n",
        "\n",
        "    Output is stored in the output variable as well.\n",
        "\n",
        "    :returns: The encrypted String\n",
        "    :rtype: str\n",
        "    \"\"\"\n",
        "\n",
        "    logging.info(\"Encrypting target %s with key %s\", self.target, self.key)\n",
        "    self.__output = ''.join([Util.displace_character_with_rollover(\n",
        "        input_character=character, \n",
        "        distance=self.key\n",
        "    ) for character in list(self.target)])\n",
        "    return self.output\n",
        "  \n",
        "  def decrypt(self):\n",
        "    \"\"\" decrypt: Function to perform decryption on target variable\n",
        "\n",
        "    Output is stored in the output variable as well.\n",
        "    \n",
        "    NOTE: The substitution is automatically done in the reverse direction. \n",
        "\n",
        "    :returns: The decrypted String\n",
        "    :rtype: str\n",
        "    \"\"\"\n",
        "\n",
        "    logging.info(\"Decrypting target %s with key %s\", self.target, self.key)\n",
        "    self.__output = ''.join([Util.displace_character_with_rollover(\n",
        "        input_character=character, \n",
        "        distance=-int(self.key)\n",
        "    ) for character in list(self.target)])\n",
        "    return self.output"
      ],
      "execution_count": 0,
      "outputs": []
    },
    {
      "cell_type": "markdown",
      "metadata": {
        "id": "5Xh5xX0wv1VI",
        "colab_type": "text"
      },
      "source": [
        "Let's test out our CeasarCipher Class"
      ]
    },
    {
      "cell_type": "code",
      "metadata": {
        "id": "WXs1LQFJv7fO",
        "colab_type": "code",
        "colab": {
          "base_uri": "https://localhost:8080/",
          "height": 67
        },
        "outputId": "f0a49c5b-eb0e-4325-8e09-476da6576353"
      },
      "source": [
        "case = \"RovvyGybvn\"\n",
        "key= 88\n",
        "\n",
        "print(f\"Trying [{case}] with key [{key}]\")\n",
        "\n",
        "cipher = CeasarCipher(target=case, key=key)\n",
        "print(\"Decrypted:\", cipher.decrypt())\n",
        "\n",
        "cipher.target = cipher.output\n",
        "print(\"Encrypted:\", cipher.encrypt())"
      ],
      "execution_count": 36,
      "outputs": [
        {
          "output_type": "stream",
          "text": [
            "Trying [RovvyGybvn] with key [88]\n",
            "Decrypted: HelloWorld\n",
            "Encrypted: RovvyGybvn\n"
          ],
          "name": "stdout"
        }
      ]
    },
    {
      "cell_type": "markdown",
      "metadata": {
        "id": "T7qXKFX0CoIS",
        "colab_type": "text"
      },
      "source": [
        "##### An interesting point to note about private variables.\n",
        "\n",
        "We can't set the output value on any instance of CeasarCipher, as it's a private data member without any setter implement"
      ]
    },
    {
      "cell_type": "code",
      "metadata": {
        "id": "UkKgcmiACny6",
        "colab_type": "code",
        "colab": {
          "base_uri": "https://localhost:8080/",
          "height": 162
        },
        "outputId": "5aeb3df4-04bb-4144-d388-aedd25322d1c"
      },
      "source": [
        "cipher.output = \"MyOutput\""
      ],
      "execution_count": 15,
      "outputs": [
        {
          "output_type": "error",
          "ename": "AttributeError",
          "evalue": "ignored",
          "traceback": [
            "\u001b[0;31m---------------------------------------------------------------------------\u001b[0m",
            "\u001b[0;31mAttributeError\u001b[0m                            Traceback (most recent call last)",
            "\u001b[0;32m<ipython-input-15-02bf030cdca5>\u001b[0m in \u001b[0;36m<module>\u001b[0;34m()\u001b[0m\n\u001b[0;32m----> 1\u001b[0;31m \u001b[0mcipher\u001b[0m\u001b[0;34m.\u001b[0m\u001b[0moutput\u001b[0m \u001b[0;34m=\u001b[0m \u001b[0;34m\"MyOutput\"\u001b[0m\u001b[0;34m\u001b[0m\u001b[0;34m\u001b[0m\u001b[0m\n\u001b[0m",
            "\u001b[0;31mAttributeError\u001b[0m: can't set attribute"
          ]
        }
      ]
    }
  ]
}